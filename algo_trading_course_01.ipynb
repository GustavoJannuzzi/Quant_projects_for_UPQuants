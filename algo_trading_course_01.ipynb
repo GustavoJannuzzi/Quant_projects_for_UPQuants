{
 "cells": [
  {
   "cell_type": "markdown",
   "metadata": {},
   "source": [
    "<h1>Algorithmic Trading Course</h1>"
   ]
  },
  {
   "cell_type": "markdown",
   "metadata": {},
   "source": [
    "<h3>SECTION 01: Algorithmic Trading Basics</h3>"
   ]
  },
  {
   "cell_type": "markdown",
   "metadata": {},
   "source": [
    "Algorithmic trading means using computers to mae invstment decisions.\n",
    "\n",
    "There are many different types of algorithmic trading. The main difference is their spee of execution.\n",
    "\n",
    "Here are some of the main players in the algorthmic trading landscape:\n",
    "- Renaissance Technologies: $165Bin AUM\n",
    "- AQR Capital Management: $61B in AUM\n",
    "- Citadel Securities: $32B in AUM"
   ]
  },
  {
   "cell_type": "markdown",
   "metadata": {},
   "source": [
    "<h4> The algorithmic Trading Process:</h4>\n",
    "The process of running a quantitative investing strategy can be broken down into the following steps:<br>\n",
    "\n",
    "1. Collect Data\n",
    "2. Develope a hypohesis for a strategy\n",
    "3. Backtest that strategy\n",
    "4. Implement the strategy in production"
   ]
  },
  {
   "cell_type": "markdown",
   "metadata": {},
   "source": [
    "<h3>SECTION 02: API Basics and Course Configuration</h3>"
   ]
  },
  {
   "cell_type": "markdown",
   "metadata": {},
   "source": [
    "<h4> What is an API? </h4>\n",
    "An API is an Application Programing Interface. It allow us to interact with someone else's software.<br>\n",
    "We are going to use IEX Cloud API to access database of financial data.<br><br/>\n",
    "In this course will be using the GET request to gather data from the IEX Cloud API."
   ]
  },
  {
   "cell_type": "markdown",
   "metadata": {},
   "source": [
    "Other API Functionality:\n",
    "- POST: Adds data to the database exposed by the API. (Create only)\n",
    "- PUT: Adds and verviewrites data in the database exposed by the API. (Create or replace)\n",
    "- DELETE: Deletes data from the API's database."
   ]
  },
  {
   "cell_type": "markdown",
   "metadata": {},
   "source": [
    "----------"
   ]
  },
  {
   "cell_type": "markdown",
   "metadata": {},
   "source": [
    "### PROJECT 01 - Equal-Weight S&P 500 Screener"
   ]
  },
  {
   "cell_type": "markdown",
   "metadata": {},
   "source": [
    "The S&P 500 is the world's most popular stock market index.<br>\n",
    "Many investment funds are benchmarked to the S&P 500. This means that they seek to replicate the performance of this index by owning all stocks that are held in the index.<br>\n",
    "The S&P covers the 500 largest companies of United States. "
   ]
  },
  {
   "cell_type": "markdown",
   "metadata": {},
   "source": [
    "In the first project you will build an alternative version of the S&P 500 that assigns the same wheight to each company.<br>\n",
    "The goal of this project is to create a Python script that accepts the value on your portfolio and tell you how many shares of each S&P 500 constituent you should purchase to get an equal-weight version of the index fund."
   ]
  },
  {
   "cell_type": "markdown",
   "metadata": {},
   "source": [
    "<h4>Importing libraries</h4>"
   ]
  },
  {
   "cell_type": "code",
   "execution_count": 23,
   "metadata": {},
   "outputs": [],
   "source": [
    "import numpy as np\n",
    "import pandas as pd \n",
    "import requests \n",
    "import xlsxwriter\n",
    "import math"
   ]
  },
  {
   "cell_type": "markdown",
   "metadata": {},
   "source": [
    "<h4> Importing Our List of Stocks</h4>\n",
    "The stock in S&P 500 change over time, they are re-balanced.So in the real world you would connect to the Standard and Poors provider and pull their real-time database.<br></br>\n",
    "\n",
    "For now we are going to use this static version of S&P. [Click this link to download them now](http://nickmccullum.com/algorithmic-trading-python/sp_500_stocks.csv). "
   ]
  },
  {
   "cell_type": "code",
   "execution_count": 24,
   "metadata": {},
   "outputs": [],
   "source": [
    "stocks = pd.read_csv('https://raw.githubusercontent.com/GustavoJannuzzi/Quant_projects_for_UPQuants/main/sp_500_stocks.csv')"
   ]
  },
  {
   "cell_type": "markdown",
   "metadata": {},
   "source": [
    "<h4>Acquiring an API Token</h4>\n",
    "\n",
    "API tokens an secret information must be stored in a `secrets.py` file that doesn't get pushed to your local Git repository. \n",
    "For now we are going to use a sandbox mode, that's kinda like a game mode. It will make sure that all off ur API calls work, but it doesn't actually return real time financial data. It will return a random financial data. \n",
    "\n",
    "[Click here](http://nickmccullum.com/algorithmic-trading-python/secrets.py) to download your `secrets.py` file. Move the file into the same directory as this Jupyter Notebook before proceeding."
   ]
  },
  {
   "cell_type": "code",
   "execution_count": 25,
   "metadata": {},
   "outputs": [],
   "source": [
    "from secrets import IEX_CLOUD_API_TOKEN"
   ]
  },
  {
   "cell_type": "markdown",
   "metadata": {},
   "source": [
    "<h4> Making the first API call</h4>\n",
    "We 'll need the following information from the API:\n",
    "\n",
    "- market capitalization for each stock\n",
    "- price of each stock "
   ]
  },
  {
   "cell_type": "code",
   "execution_count": 26,
   "metadata": {},
   "outputs": [
    {
     "data": {
      "text/plain": [
       "{'avgTotalVolume': 72819070,\n",
       " 'calculationPrice': 'close',\n",
       " 'change': 3.01,\n",
       " 'changePercent': 0.01971,\n",
       " 'close': 165.19,\n",
       " 'closeSource': 'fliocaif',\n",
       " 'closeTime': 1670440020431,\n",
       " 'companyName': 'Apple Inc',\n",
       " 'currency': 'USD',\n",
       " 'delayedPrice': 161.343,\n",
       " 'delayedPriceTime': 1671590493157,\n",
       " 'extendedChange': 0.16,\n",
       " 'extendedChangePercent': 0.00096,\n",
       " 'extendedPrice': 157.82,\n",
       " 'extendedPriceTime': 1742449475006,\n",
       " 'high': 165.19,\n",
       " 'highSource': '5ldi e eneyr i1ueacdpmt',\n",
       " 'highTime': 1677996520943,\n",
       " 'iexAskPrice': None,\n",
       " 'iexAskSize': None,\n",
       " 'iexBidPrice': None,\n",
       " 'iexBidSize': None,\n",
       " 'iexClose': 164.96,\n",
       " 'iexCloseTime': 1734032571199,\n",
       " 'iexLastUpdated': None,\n",
       " 'iexMarketPercent': None,\n",
       " 'iexOpen': 162.83,\n",
       " 'iexOpenTime': 1729633431339,\n",
       " 'iexRealtimePrice': None,\n",
       " 'iexRealtimeSize': None,\n",
       " 'iexVolume': None,\n",
       " 'lastTradeTime': 1707431320871,\n",
       " 'latestPrice': 159.08,\n",
       " 'latestSource': 'Close',\n",
       " 'latestTime': 'September 9, 2022',\n",
       " 'latestUpdate': 1719891896787,\n",
       " 'latestVolume': 71205440,\n",
       " 'low': 157.09,\n",
       " 'lowSource': 'nre5ldadype i i ue1cetm',\n",
       " 'lowTime': 1676602281975,\n",
       " 'marketCap': 2553788061074,\n",
       " 'oddLotDelayedPrice': 162.62,\n",
       " 'oddLotDelayedPriceTime': 1728287271628,\n",
       " 'open': 157.09,\n",
       " 'openTime': 1682372739841,\n",
       " 'openSource': 'ffcilaoi',\n",
       " 'peRatio': 27.31,\n",
       " 'previousClose': 158.66,\n",
       " 'previousVolume': 88335133,\n",
       " 'primaryExchange': 'ASNQAD',\n",
       " 'symbol': 'AAPL',\n",
       " 'volume': 68400306,\n",
       " 'week52High': 184.99,\n",
       " 'week52Low': 131.98,\n",
       " 'ytdChange': -0.09229015624269028,\n",
       " 'isUSMarketOpen': False}"
      ]
     },
     "execution_count": 26,
     "metadata": {},
     "output_type": "execute_result"
    }
   ],
   "source": [
    "symbol = 'AAPL'\n",
    "api_url = f'https://sandbox.iexapis.com/stable/stock/{symbol}/quote?token={IEX_CLOUD_API_TOKEN}'\n",
    "data = requests.get(api_url).json()\n",
    "data"
   ]
  },
  {
   "cell_type": "markdown",
   "metadata": {},
   "source": [
    "<h4>Parsing Our API call</h4>\n",
    "The API call that we executed in the last code block contains all the information required to build our equal-wieght S&P<br>\n",
    "\n"
   ]
  },
  {
   "cell_type": "code",
   "execution_count": 27,
   "metadata": {},
   "outputs": [],
   "source": [
    "price = data['latestPrice']\n",
    "market_cap = data['marketCap']"
   ]
  },
  {
   "cell_type": "markdown",
   "metadata": {},
   "source": [
    "<h4>Adding stock data to Pandas DF</h4>"
   ]
  },
  {
   "cell_type": "code",
   "execution_count": 28,
   "metadata": {},
   "outputs": [
    {
     "data": {
      "text/html": [
       "<div>\n",
       "<style scoped>\n",
       "    .dataframe tbody tr th:only-of-type {\n",
       "        vertical-align: middle;\n",
       "    }\n",
       "\n",
       "    .dataframe tbody tr th {\n",
       "        vertical-align: top;\n",
       "    }\n",
       "\n",
       "    .dataframe thead th {\n",
       "        text-align: right;\n",
       "    }\n",
       "</style>\n",
       "<table border=\"1\" class=\"dataframe\">\n",
       "  <thead>\n",
       "    <tr style=\"text-align: right;\">\n",
       "      <th></th>\n",
       "      <th>Ticker</th>\n",
       "      <th>Stock Price</th>\n",
       "      <th>Market Capitalization</th>\n",
       "      <th>Number of Shares to buy</th>\n",
       "    </tr>\n",
       "  </thead>\n",
       "  <tbody>\n",
       "  </tbody>\n",
       "</table>\n",
       "</div>"
      ],
      "text/plain": [
       "Empty DataFrame\n",
       "Columns: [Ticker, Stock Price, Market Capitalization, Number of Shares to buy]\n",
       "Index: []"
      ]
     },
     "execution_count": 28,
     "metadata": {},
     "output_type": "execute_result"
    }
   ],
   "source": [
    "my_columns = ['Ticker', 'Stock Price', 'Market Capitalization', 'Number of Shares to buy']\n",
    "final_dataframe = pd.DataFrame(columns = my_columns)\n",
    "final_dataframe"
   ]
  },
  {
   "cell_type": "code",
   "execution_count": 31,
   "metadata": {},
   "outputs": [
    {
     "data": {
      "text/html": [
       "<div>\n",
       "<style scoped>\n",
       "    .dataframe tbody tr th:only-of-type {\n",
       "        vertical-align: middle;\n",
       "    }\n",
       "\n",
       "    .dataframe tbody tr th {\n",
       "        vertical-align: top;\n",
       "    }\n",
       "\n",
       "    .dataframe thead th {\n",
       "        text-align: right;\n",
       "    }\n",
       "</style>\n",
       "<table border=\"1\" class=\"dataframe\">\n",
       "  <thead>\n",
       "    <tr style=\"text-align: right;\">\n",
       "      <th></th>\n",
       "      <th>Ticker</th>\n",
       "      <th>Stock Price</th>\n",
       "      <th>Market Capitalization</th>\n",
       "      <th>Number of Shares to buy</th>\n",
       "    </tr>\n",
       "  </thead>\n",
       "  <tbody>\n",
       "    <tr>\n",
       "      <th>0</th>\n",
       "      <td>AAPL</td>\n",
       "      <td>164.42</td>\n",
       "      <td>2598358347056</td>\n",
       "      <td>N/A</td>\n",
       "    </tr>\n",
       "    <tr>\n",
       "      <th>1</th>\n",
       "      <td>AAPL</td>\n",
       "      <td>157.45</td>\n",
       "      <td>2647291535773</td>\n",
       "      <td>N/A</td>\n",
       "    </tr>\n",
       "    <tr>\n",
       "      <th>2</th>\n",
       "      <td>AAPL</td>\n",
       "      <td>164.87</td>\n",
       "      <td>2616952206036</td>\n",
       "      <td>N/A</td>\n",
       "    </tr>\n",
       "    <tr>\n",
       "      <th>3</th>\n",
       "      <td>AAPL</td>\n",
       "      <td>157.71</td>\n",
       "      <td>2607874869721</td>\n",
       "      <td>N/A</td>\n",
       "    </tr>\n",
       "    <tr>\n",
       "      <th>4</th>\n",
       "      <td>AAPL</td>\n",
       "      <td>161.44</td>\n",
       "      <td>2590243636418</td>\n",
       "      <td>N/A</td>\n",
       "    </tr>\n",
       "    <tr>\n",
       "      <th>...</th>\n",
       "      <td>...</td>\n",
       "      <td>...</td>\n",
       "      <td>...</td>\n",
       "      <td>...</td>\n",
       "    </tr>\n",
       "    <tr>\n",
       "      <th>71</th>\n",
       "      <td>AAPL</td>\n",
       "      <td>162.35</td>\n",
       "      <td>2534575784981</td>\n",
       "      <td>N/A</td>\n",
       "    </tr>\n",
       "    <tr>\n",
       "      <th>72</th>\n",
       "      <td>AAPL</td>\n",
       "      <td>160.82</td>\n",
       "      <td>2583568106610</td>\n",
       "      <td>N/A</td>\n",
       "    </tr>\n",
       "    <tr>\n",
       "      <th>73</th>\n",
       "      <td>AAPL</td>\n",
       "      <td>160.42</td>\n",
       "      <td>2556211560537</td>\n",
       "      <td>N/A</td>\n",
       "    </tr>\n",
       "    <tr>\n",
       "      <th>74</th>\n",
       "      <td>AAPL</td>\n",
       "      <td>158.62</td>\n",
       "      <td>2614320196010</td>\n",
       "      <td>N/A</td>\n",
       "    </tr>\n",
       "    <tr>\n",
       "      <th>75</th>\n",
       "      <td>AAPL</td>\n",
       "      <td>158.62</td>\n",
       "      <td>2614320196010</td>\n",
       "      <td>N/A</td>\n",
       "    </tr>\n",
       "  </tbody>\n",
       "</table>\n",
       "<p>76 rows × 4 columns</p>\n",
       "</div>"
      ],
      "text/plain": [
       "   Ticker  Stock Price Market Capitalization Number of Shares to buy\n",
       "0    AAPL       164.42         2598358347056                     N/A\n",
       "1    AAPL       157.45         2647291535773                     N/A\n",
       "2    AAPL       164.87         2616952206036                     N/A\n",
       "3    AAPL       157.71         2607874869721                     N/A\n",
       "4    AAPL       161.44         2590243636418                     N/A\n",
       "..    ...          ...                   ...                     ...\n",
       "71   AAPL       162.35         2534575784981                     N/A\n",
       "72   AAPL       160.82         2583568106610                     N/A\n",
       "73   AAPL       160.42         2556211560537                     N/A\n",
       "74   AAPL       158.62         2614320196010                     N/A\n",
       "75   AAPL       158.62         2614320196010                     N/A\n",
       "\n",
       "[76 rows x 4 columns]"
      ]
     },
     "execution_count": 31,
     "metadata": {},
     "output_type": "execute_result"
    }
   ],
   "source": [
    "final_dataframe = final_dataframe.append(\n",
    "                                        pd.Series(['AAPL', \n",
    "                                                   data['latestPrice'], \n",
    "                                                   data['marketCap'], \n",
    "                                                   'N/A'], \n",
    "                                                  index = my_columns), \n",
    "                                        ignore_index = True)\n",
    "final_dataframe"
   ]
  },
  {
   "cell_type": "markdown",
   "metadata": {},
   "source": [
    "<h4> Looping throught the ticker in our list of stocks</h4>\n",
    "Now we'll feed de dataframe calling all the stock in our list of stocks."
   ]
  },
  {
   "cell_type": "code",
   "execution_count": 32,
   "metadata": {},
   "outputs": [],
   "source": [
    "final_dataframe = pd.DataFrame(columns = my_columns)\n",
    "for symbols in stocks['Ticker']:\n",
    "    api_url = f'https://sandbox.iexapis.com/stable/stock/{symbol}/quote?token={IEX_CLOUD_API_TOKEN}'\n",
    "    data = requests.get(api_url).json()\n",
    "    final_dataframe = final_dataframe.append(\n",
    "                                        pd.Series([symbol, \n",
    "                                                   data['latestPrice'], \n",
    "                                                   data['marketCap'], \n",
    "                                                   'N/A'], \n",
    "                                                  index = my_columns), \n",
    "                                        ignore_index = True)\n"
   ]
  },
  {
   "cell_type": "code",
   "execution_count": null,
   "metadata": {},
   "outputs": [],
   "source": [
    "final_dataframe"
   ]
  },
  {
   "cell_type": "markdown",
   "metadata": {},
   "source": [
    "<h4>Using Batch API Calls to improve Performance</h4>"
   ]
  },
  {
   "cell_type": "markdown",
   "metadata": {},
   "source": [
    "<h4>Calculating the Number of share to buy</h4>"
   ]
  },
  {
   "cell_type": "markdown",
   "metadata": {},
   "source": [
    "<h4>Formating our excel output</h4>"
   ]
  },
  {
   "cell_type": "markdown",
   "metadata": {},
   "source": [
    "### PROJECT 02 - Quantitative Momentum Screener"
   ]
  },
  {
   "cell_type": "markdown",
   "metadata": {},
   "source": [
    "<h3> Momentum Investing Project Overview</h3>\n",
    "Momentum investing means investing in assets that have increased in price the most.</br>\n",
    "Consider this example to better understand:<br>\n",
    "Imagine that you have the choice between investing in two stocks that have had the following returns over the last year: \n",
    "\n",
    "- Apple(APPL): 35%\n",
    "- Microsoft (MSFT): 20%\n",
    "\n",
    "A momentum investing strategy would suggest investing in Apple because of its higher recent price return. <br>\n",
    "There are many other nuances to momentum investing strategies."
   ]
  },
  {
   "cell_type": "markdown",
   "metadata": {},
   "source": [
    "### PROJECT 03 - Quantitative Value Investing Strategy Screener"
   ]
  },
  {
   "cell_type": "markdown",
   "metadata": {},
   "source": [
    "<h3> Value Investing Project Overview</h3>\n",
    "Value investing means investing in stocks that are trading below their perceived intrinsic value.<br>\n",
    "Value investing was popularized by investors like Waren Buffet, seth Klarman, and  Benjamin Graham.<br></br>\n",
    "Creating algorithmic value investing srtategies relies on a concept called <font color=red>multiples</font>.<br> \n",
    "Multiples are simply a way that investors use to estimate how valuable a company is.<br>\n",
    "Multiples are calculated by dividing a company's stock price by sme measure of company's worth like earnings or assets."
   ]
  },
  {
   "cell_type": "markdown",
   "metadata": {},
   "source": [
    "Examples of <font color=red>multiples</font> used in value investing:\n",
    "\n",
    "- Price-to-earnings\n",
    "- Price-to-book-value\n",
    "- Price-to-free-cash-flow"
   ]
  },
  {
   "cell_type": "markdown",
   "metadata": {},
   "source": [
    "Each of the individual multilpes used by value investors has its pros and cons. <br>\n",
    "One way to minimize the impact of any specific multiples is by using a <font color=red>composite</font>.<br></br>\n",
    "Composite is just a average of many different valuation strategies. <br>\n",
    "We'll use  composite of 5 different value investing metrics."
   ]
  },
  {
   "cell_type": "code",
   "execution_count": null,
   "metadata": {},
   "outputs": [],
   "source": []
  }
 ],
 "metadata": {
  "kernelspec": {
   "display_name": "Python 3.9.7 64-bit",
   "language": "python",
   "name": "python3"
  },
  "language_info": {
   "codemirror_mode": {
    "name": "ipython",
    "version": 3
   },
   "file_extension": ".py",
   "mimetype": "text/x-python",
   "name": "python",
   "nbconvert_exporter": "python",
   "pygments_lexer": "ipython3",
   "version": "3.9.7"
  },
  "orig_nbformat": 4,
  "vscode": {
   "interpreter": {
    "hash": "98aa07854732ae646bda98594cb715c558b2b78ee52e89326a35461a4039b934"
   }
  }
 },
 "nbformat": 4,
 "nbformat_minor": 2
}
