{
 "cells": [
  {
   "cell_type": "markdown",
   "metadata": {},
   "source": [
    "<h1>Algorithmic Trading Course</h1>"
   ]
  },
  {
   "cell_type": "markdown",
   "metadata": {},
   "source": [
    "<h3>SECTION 01: Algorithmic Trading Basics</h3>"
   ]
  },
  {
   "cell_type": "markdown",
   "metadata": {},
   "source": [
    "Algorithmic trading means using computers to mae invstment decisions.\n",
    "\n",
    "There are many different types of algorithmic trading. The main difference is their spee of execution.\n",
    "\n",
    "Here are some of the main players in the algorthmic trading landscape:\n",
    "- Renaissance Technologies: $165Bin AUM\n",
    "- AQR Capital Management: $61B in AUM\n",
    "- Citadel Securities: $32B in AUM"
   ]
  },
  {
   "cell_type": "markdown",
   "metadata": {},
   "source": [
    "<h4> The algorithmic Trading Process:</h4>\n",
    "The process of running a quantitative investing strategy can be broken down into the following steps:<br>\n",
    "\n",
    "1. Collect Data\n",
    "2. Develope a hypohesis for a strategy\n",
    "3. Backtest that strategy\n",
    "4. Implement the strategy in production"
   ]
  },
  {
   "cell_type": "markdown",
   "metadata": {},
   "source": [
    "<h3>SECTION 02: API Basics and Course Configuration</h3>"
   ]
  },
  {
   "cell_type": "markdown",
   "metadata": {},
   "source": [
    "<h4> What is an API? </h4>\n",
    "An API is an Application Programing Interface. It allow us to interact with someone else's software.<br>\n",
    "We are going to use IEX Cloud API to access database of financial data.<br><br/>\n",
    "In this course will be using the GET request to gather data from the IEX Cloud API."
   ]
  },
  {
   "cell_type": "markdown",
   "metadata": {},
   "source": [
    "Other API Functionality:\n",
    "- POST: Adds data to the database exposed by the API. (Create only)\n",
    "- PUT: Adds and verviewrites data in the database exposed by the API. (Create or replace)\n",
    "- DELETE: Deletes data from the API's database."
   ]
  },
  {
   "cell_type": "markdown",
   "metadata": {},
   "source": [
    "----------"
   ]
  },
  {
   "cell_type": "markdown",
   "metadata": {},
   "source": [
    "### PROJECT 01 - Equal-Weight S&P 500 Screener"
   ]
  },
  {
   "cell_type": "markdown",
   "metadata": {},
   "source": [
    "The S&P 500 is the world's most popular stock market index.<br>\n",
    "Many investment funds are benchmarked to the S&P 500. This means that they seek to replicate the performance of this index by owning all stocks that are held in the index.<br>\n",
    "The S&P covers the 500 largest companies of United States. "
   ]
  },
  {
   "cell_type": "markdown",
   "metadata": {},
   "source": [
    "In the first project you will build an alternative version of the S&P 500 that assigns the same wheight to each company.<br>\n",
    "The goal of this project is to create a Python script that accepts the value on your portfolio and tell you how many shares of each S&P 500 constituent you should purchase to get an equal-weight version of the index fund."
   ]
  },
  {
   "cell_type": "markdown",
   "metadata": {},
   "source": [
    "<h4>Importing libraries</h4>"
   ]
  },
  {
   "cell_type": "code",
   "execution_count": 1,
   "metadata": {},
   "outputs": [],
   "source": [
    "import numpy as np\n",
    "import pandas as pd \n",
    "import requests \n",
    "import xlsxwriter\n",
    "import math"
   ]
  },
  {
   "cell_type": "markdown",
   "metadata": {},
   "source": [
    "<h4> Importing Our List of Stocks</h4>\n",
    "The stock in S&P 500 change over time, they are re-balanced.So in the real world you would connect to the Standard and Poors provider and pull their real-time database.<br></br>\n",
    "\n",
    "For now we are going to use this static version of S&P. [Click this link to download them now](http://nickmccullum.com/algorithmic-trading-python/sp_500_stocks.csv). "
   ]
  },
  {
   "cell_type": "code",
   "execution_count": null,
   "metadata": {},
   "outputs": [],
   "source": []
  },
  {
   "cell_type": "markdown",
   "metadata": {},
   "source": [
    "### PROJECT 02 - Quantitative Momentum Screener"
   ]
  },
  {
   "cell_type": "markdown",
   "metadata": {},
   "source": [
    "<h3> Momentum Investing Project Overview</h3>\n",
    "Momentum investing means investing in assets that have increased in price the most.</br>\n",
    "Consider this example to better understand:<br>\n",
    "Imagine that you have the choice between investing in two stocks that have had the following returns over the last year: \n",
    "\n",
    "- Apple(APPL): 35%\n",
    "- Microsoft (MSFT): 20%\n",
    "\n",
    "A momentum investing strategy would suggest investing in Apple because of its higher recent price return. <br>\n",
    "There are many other nuances to momentum investing strategies."
   ]
  },
  {
   "cell_type": "code",
   "execution_count": null,
   "metadata": {},
   "outputs": [],
   "source": []
  },
  {
   "cell_type": "markdown",
   "metadata": {},
   "source": [
    "### PROJECT 03 - Quantitative Value Investing Strategy Screener"
   ]
  },
  {
   "cell_type": "markdown",
   "metadata": {},
   "source": [
    "<h3> Value Investing Project Overview</h3>\n",
    "Value investing means investing in stocks that are trading below their perceived intrinsic value.<br>\n",
    "Value investing was popularized by investors like Waren Buffet, seth Klarman, and  Benjamin Graham.<br></br>\n",
    "Creating algorithmic value investing srtategies relies on a concept called <font color=red>multiples</font>.<br> \n",
    "Multiples are simply a way that investors use to estimate how valuable a company is.<br>\n",
    "Multiples are calculated by dividing a company's stock price by sme measure of company's worth like earnings or assets."
   ]
  },
  {
   "cell_type": "markdown",
   "metadata": {},
   "source": [
    "Examples of <font color=red>multiples</font> used in value investing:\n",
    "\n",
    "- Price-to-earnings\n",
    "- Price-to-book-value\n",
    "- Price-to-free-cash-flow"
   ]
  },
  {
   "cell_type": "markdown",
   "metadata": {},
   "source": [
    "Each of the individual multilpes used by value investors has its pros and cons. <br>\n",
    "One way to minimize the impact of any specific multiples is by using a <font color=red>composite</font>.<br></br>\n",
    "Composite is just a average of many different valuation strategies. <br>\n",
    "We'll use  composite of 5 different value investing metrics."
   ]
  },
  {
   "cell_type": "code",
   "execution_count": null,
   "metadata": {},
   "outputs": [],
   "source": []
  },
  {
   "cell_type": "code",
   "execution_count": null,
   "metadata": {},
   "outputs": [],
   "source": []
  }
 ],
 "metadata": {
  "kernelspec": {
   "display_name": "Python 3.9.7 64-bit",
   "language": "python",
   "name": "python3"
  },
  "language_info": {
   "codemirror_mode": {
    "name": "ipython",
    "version": 3
   },
   "file_extension": ".py",
   "mimetype": "text/x-python",
   "name": "python",
   "nbconvert_exporter": "python",
   "pygments_lexer": "ipython3",
   "version": "3.9.7"
  },
  "orig_nbformat": 4,
  "vscode": {
   "interpreter": {
    "hash": "98aa07854732ae646bda98594cb715c558b2b78ee52e89326a35461a4039b934"
   }
  }
 },
 "nbformat": 4,
 "nbformat_minor": 2
}
